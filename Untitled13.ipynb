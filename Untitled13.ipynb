{
 "cells": [
  {
   "cell_type": "code",
   "execution_count": null,
   "id": "d604ed6e",
   "metadata": {},
   "outputs": [],
   "source": []
  },
  {
   "cell_type": "code",
   "execution_count": 8,
   "id": "fd15639d",
   "metadata": {},
   "outputs": [
    {
     "name": "stdout",
     "output_type": "stream",
     "text": [
      "The original vector: [15.81404755 19.21252086 14.53892824 13.77639057  9.52185737  8.24555821\n",
      " 14.29724928 18.82184189 16.14592039 13.52299248 14.59691256  6.35036392\n",
      "  3.55886403 18.2356498   2.3870994  10.84092234  3.75058548 10.40594673\n",
      "  3.27020561  4.49953517]\n",
      "The reshaped vector before replace:  [[15.81404755 19.21252086 14.53892824 13.77639057  9.52185737]\n",
      " [ 8.24555821 14.29724928 18.82184189 16.14592039 13.52299248]\n",
      " [14.59691256  6.35036392  3.55886403 18.2356498   2.3870994 ]\n",
      " [10.84092234  3.75058548 10.40594673  3.27020561  4.49953517]]\n",
      "The reshaped vector after replace:  [[15.81404755  0.         14.53892824 13.77639057  9.52185737]\n",
      " [ 8.24555821 14.29724928  0.         16.14592039 13.52299248]\n",
      " [14.59691256  6.35036392  3.55886403  0.          2.3870994 ]\n",
      " [ 0.          3.75058548 10.40594673  3.27020561  4.49953517]]\n"
     ]
    }
   ],
   "source": [
    "import numpy as np\n",
    "\n",
    "# random vector of size 20 with float in the range 1-20\n",
    "vec = np.random.uniform(1,20,20)\n",
    "print(\"The original vector:\" ,vec)\n",
    "\n",
    "# reshape vector to 4 by 5\n",
    "vec_reshaped = vec.reshape(4,5)\n",
    "print(\"The reshaped vector before replace: \", vec_reshaped)\n",
    "\n",
    "# replace max in each row by 0\n",
    "vec_reshaped[np.arange(4),vec_reshaped.argmax(axis=1)] = 0\n",
    "print(\"The reshaped vector after replace: \" ,vec_reshaped)\n"
   ]
  },
  {
   "cell_type": "code",
   "execution_count": 22,
   "id": "0f8d9ac4",
   "metadata": {},
   "outputs": [
    {
     "name": "stdout",
     "output_type": "stream",
     "text": [
      "666.6666666666666\n",
      "2000.0\n",
      "666.6666666666666\n"
     ]
    }
   ],
   "source": [
    "class Employee:\n",
    "    count = 0\n",
    "    def __init__(self, name, family, salary, department):\n",
    "        self.name = name\n",
    "        self.family = family\n",
    "        self.salary = salary\n",
    "        self.department = department\n",
    "        Employee.count += 1\n",
    "    def averageSalary(self):\n",
    "        avg = self.salary / Employee.count\n",
    "        return avg\n",
    "\n",
    "class FulltimeEmployee(Employee):\n",
    "    def __init__(self, name, family, salary, department):\n",
    "        Employee.__init__(self, name, family, salary, department)\n",
    "\n",
    "q1 = Employee(\"rajesh\", \"pradeep\", 2000, \"hr\")\n",
    "q2 = Employee(\"sunny\", \"srujith\", 6000, \"it\")\n",
    "q3 = FulltimeEmployee(\"david\", \"sams\", 2000, \"Manager\")\n",
    "\n",
    "print(q1.averageSalary())\n",
    "print(q2.averageSalary())\n",
    "print(q3.averageSalary())"
   ]
  },
  {
   "cell_type": "code",
   "execution_count": null,
   "id": "9352cbff",
   "metadata": {},
   "outputs": [],
   "source": []
  }
 ],
 "metadata": {
  "kernelspec": {
   "display_name": "Python 3 (ipykernel)",
   "language": "python",
   "name": "python3"
  },
  "language_info": {
   "codemirror_mode": {
    "name": "ipython",
    "version": 3
   },
   "file_extension": ".py",
   "mimetype": "text/x-python",
   "name": "python",
   "nbconvert_exporter": "python",
   "pygments_lexer": "ipython3",
   "version": "3.9.12"
  }
 },
 "nbformat": 4,
 "nbformat_minor": 5
}
